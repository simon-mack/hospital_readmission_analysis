{
 "cells": [
  {
   "cell_type": "code",
   "execution_count": 93,
   "id": "3f7310db",
   "metadata": {},
   "outputs": [],
   "source": [
    "import pandas as pd\n",
    "import matplotlib.pyplot as plt\n",
    "import datetime as dt\n",
    "\n",
    "%matplotlib inline"
   ]
  },
  {
   "cell_type": "code",
   "execution_count": 94,
   "id": "2af6aca5",
   "metadata": {},
   "outputs": [
    {
     "name": "stderr",
     "output_type": "stream",
     "text": [
      "C:\\Users\\rache\\anaconda3\\lib\\site-packages\\IPython\\core\\interactiveshell.py:3165: DtypeWarning: Columns (3,5,17) have mixed types.Specify dtype option on import or set low_memory=False.\n",
      "  has_raised = await self.run_ast_nodes(code_ast.body, cell_name,\n"
     ]
    }
   ],
   "source": [
    "members = pd.read_csv('../Data/NSS_GreatCare_Members.csv', parse_dates=[61,62])\n",
    "admissions = pd.read_csv('../Data/NSS_Hospital_Inpatient_Admissions.csv', parse_dates=[8,9])\n",
    "pcp_visits = pd.read_csv('../Data/NSS_PrimaryCare_Office_Visits.csv', parse_dates=[12])"
   ]
  },
  {
   "cell_type": "markdown",
   "id": "e7413488",
   "metadata": {},
   "source": [
    "What is our 30-day all cause readmission rate across hospitals our members are admitted to?"
   ]
  },
  {
   "cell_type": "code",
   "execution_count": 95,
   "id": "5068b1d9",
   "metadata": {
    "scrolled": false
   },
   "outputs": [
    {
     "name": "stdout",
     "output_type": "stream",
     "text": [
      "0      2013-01-14\n",
      "1      2014-01-12\n",
      "2      2012-06-21\n",
      "3      2012-12-09\n",
      "4      2015-03-14\n",
      "          ...    \n",
      "6208   2015-02-11\n",
      "6209   2014-08-10\n",
      "6210   2015-11-23\n",
      "6211   2015-11-27\n",
      "6212   2010-03-31\n",
      "Name: Encounter End Date, Length: 6213, dtype: datetime64[ns]\n"
     ]
    }
   ],
   "source": [
    "print(admissions['Encounter End Date'])"
   ]
  },
  {
   "cell_type": "code",
   "execution_count": 96,
   "id": "fcaa8f6d",
   "metadata": {},
   "outputs": [
    {
     "data": {
      "text/plain": [
       "((6213, 23), (6149, 23))"
      ]
     },
     "execution_count": 96,
     "metadata": {},
     "output_type": "execute_result"
    }
   ],
   "source": [
    "admissions_dedup = admissions.sort_values(by=['Patient ID','Encounter Start Date', 'Encounter End Date']).drop_duplicates(subset=['Patient ID', 'Encounter Start Date'], keep = 'last')\n",
    "admissions_dedup = admissions_dedup.sort_values(by=['Patient ID','Encounter End Date', 'Encounter Start Date']).drop_duplicates(subset=['Patient ID', 'Encounter End Date'], keep = 'first')\n",
    "admissions.shape, admissions_dedup.shape"
   ]
  },
  {
   "cell_type": "code",
   "execution_count": 97,
   "id": "3ef213ac",
   "metadata": {},
   "outputs": [],
   "source": [
    "total_admissions = admissions.shape[0]"
   ]
  },
  {
   "cell_type": "code",
   "execution_count": 98,
   "id": "30183c43",
   "metadata": {},
   "outputs": [],
   "source": [
    "def categorize_events(patient_admissions):\n",
    "    patient_index_events = 0\n",
    "    patient_readmission_events = 0\n",
    "    last_index_event_discharge_date = None\n",
    "    readmission = False\n",
    "    for ind, row in patient_admissions.iterrows():\n",
    "        ##set first event as an intiial event or a non-qualifying readmission as initial event\n",
    "        if patient_index_events == 0 or row['Encounter Start Date'] > last_index_event_discharge_date + dt.timedelta(days=30):\n",
    "            patient_index_events += 1\n",
    "            last_index_event_discharge_date = row['Encounter End Date']\n",
    "            readmission = False\n",
    "            admissions.loc[admissions['Encounter ID'] == row['Encounter ID'], 'type'] = 'index'\n",
    "        ##check if qualifying readmission and change readmit status of most recently added initial event to true\n",
    "        elif readmission == False:\n",
    "            patient_readmission_events += 1\n",
    "            readmission = True\n",
    "            admissions.loc[admissions['Encounter ID'] == row['Encounter ID'], 'type'] = 'readmission'\n",
    "        ##check for duplicate readmission\n",
    "        else:\n",
    "            admissions.loc[admissions['Encounter ID'] == row['Encounter ID'], 'type'] = 'duplicate readmission'\n",
    "            \n",
    "    return patient_index_events, patient_readmission_events"
   ]
  },
  {
   "cell_type": "code",
   "execution_count": 99,
   "id": "b56cbbc5",
   "metadata": {
    "scrolled": true
   },
   "outputs": [
    {
     "name": "stderr",
     "output_type": "stream",
     "text": [
      "<ipython-input-99-b229257dddde>:5: UserWarning: Boolean Series key will be reindexed to match DataFrame index.\n",
      "  patient_admissions = admissions_dedup[admissions['Patient ID']==patient]\n",
      "<ipython-input-99-b229257dddde>:8: SettingWithCopyWarning: \n",
      "A value is trying to be set on a copy of a slice from a DataFrame\n",
      "\n",
      "See the caveats in the documentation: https://pandas.pydata.org/pandas-docs/stable/user_guide/indexing.html#returning-a-view-versus-a-copy\n",
      "  patient_admissions.sort_values(by = 'Encounter End Date', inplace=True, ignore_index=True)\n"
     ]
    },
    {
     "name": "stdout",
     "output_type": "stream",
     "text": [
      "Total Index Events: 5536\n",
      "Index Events Leading to Readmission: 527\n",
      "Readmission Rate: 9.52%\n"
     ]
    }
   ],
   "source": [
    "total_index_events = 0\n",
    "total_index_events_leading_to_readmission = 0\n",
    "\n",
    "for patient in admissions_dedup['Patient ID'].unique():\n",
    "    patient_admissions = admissions_dedup[admissions['Patient ID']==patient]\n",
    "    times_admitted = patient_admissions.shape[0]\n",
    "    if times_admitted > 1:\n",
    "        patient_admissions.sort_values(by = 'Encounter End Date', inplace=True, ignore_index=True)\n",
    "        ind, re = categorize_events(patient_admissions)\n",
    "        total_index_events += ind\n",
    "        total_index_events_leading_to_readmission += re\n",
    "    else:\n",
    "        encounter_id = patient_admissions['Encounter ID'].values[0]\n",
    "        admissions.loc[admissions['Encounter ID'] == encounter_id, 'type'] = 'index'\n",
    "        total_index_events += 1\n",
    "print(\"Total Index Events:\",total_index_events) \n",
    "print(\"Index Events Leading to Readmission:\", total_index_events_leading_to_readmission)\n",
    "print(str.format(\"Readmission Rate: {}%\",round(total_index_events_leading_to_readmission/total_index_events*100,2)))"
   ]
  },
  {
   "cell_type": "code",
   "execution_count": 100,
   "id": "701451e0",
   "metadata": {},
   "outputs": [
    {
     "data": {
      "text/plain": [
       "index                    5536\n",
       "readmission               527\n",
       "duplicate readmission      86\n",
       "Name: type, dtype: int64"
      ]
     },
     "execution_count": 100,
     "metadata": {},
     "output_type": "execute_result"
    }
   ],
   "source": [
    "admissions['type'].value_counts()"
   ]
  },
  {
   "cell_type": "markdown",
   "id": "14d52810",
   "metadata": {},
   "source": [
    "What percent of patients have a PCP visit within a week of discharge?"
   ]
  },
  {
   "cell_type": "code",
   "execution_count": 110,
   "id": "31ec5ecd",
   "metadata": {},
   "outputs": [
    {
     "name": "stdout",
     "output_type": "stream",
     "text": [
      "Total Hospital Visit: 6149\n",
      "Total PCP Visits in 7 Days: 1860\n",
      "PCP Visit Rate: 30.25%\n"
     ]
    }
   ],
   "source": [
    "total_hospital_visits = admissions_dedup.shape[0]\n",
    "total_pcp_visits_in_7_days = 0\n",
    "\n",
    "for ind, row in admissions_dedup.iterrows():\n",
    "    patient = row['Patient ID']\n",
    "    discharge_date = row['Encounter End Date']\n",
    "    \n",
    "    for i,r in pcp_visits[pcp_visits['Patient ID']==patient].iterrows():\n",
    "        if r['Encounter Date']<= discharge_date + dt.timedelta(days=7) and r['Encounter Date'] >= discharge_date:\n",
    "            total_pcp_visits_in_7_days += 1\n",
    "            break\n",
    "\n",
    "print('Total Hospital Visit:', total_hospital_visits)\n",
    "print('Total PCP Visits in 7 Days:', total_pcp_visits_in_7_days)\n",
    "print(str.format(\"PCP Visit Rate: {}%\", round(total_pcp_visits_in_7_days/total_hospital_visits*100,2)))"
   ]
  },
  {
   "cell_type": "code",
   "execution_count": null,
   "id": "589febd3",
   "metadata": {},
   "outputs": [],
   "source": []
  }
 ],
 "metadata": {
  "kernelspec": {
   "display_name": "Python 3",
   "language": "python",
   "name": "python3"
  },
  "language_info": {
   "codemirror_mode": {
    "name": "ipython",
    "version": 3
   },
   "file_extension": ".py",
   "mimetype": "text/x-python",
   "name": "python",
   "nbconvert_exporter": "python",
   "pygments_lexer": "ipython3",
   "version": "3.8.8"
  }
 },
 "nbformat": 4,
 "nbformat_minor": 5
}
