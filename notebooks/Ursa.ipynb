{
 "cells": [
  {
   "cell_type": "markdown",
   "id": "9e011848",
   "metadata": {},
   "source": [
    "\n",
    "\n",
    "QUESTIONS:\n",
    "What is our 30-day all cause readmission rate across hospitals our members are admitted to?\n",
    "What percent of patients have a PCP visit within a week of discharge?\n",
    "Do either vary by individual or group PCP's?\n",
    "\n",
    "BONUS:\n",
    "Which individual or PCP groups should we make an extra effort with to build a relationship? Which have the highest volume?\n",
    "What percent of our patients do not have a PCP assigned or haven't seen their PCP recently?\n",
    "Are there certain patients we should focus on (e.g. frequent fliers)?\n",
    "From this, what could a version 1 of an actionable dashboard or intervention list look like to support the Transition Care Managers?\n",
    "\n",
    "NOTES:\n",
    "\n",
    "discharge date + 30 days: readmission true or false\n",
    "count trues"
   ]
  },
  {
   "cell_type": "code",
   "execution_count": 2,
   "id": "7c6a1474",
   "metadata": {},
   "outputs": [],
   "source": [
    "import pandas as pd\n",
    "import datetime as dt"
   ]
  },
  {
   "cell_type": "code",
   "execution_count": 62,
   "id": "8b80c824",
   "metadata": {},
   "outputs": [
    {
     "name": "stderr",
     "output_type": "stream",
     "text": [
      "E:\\Anaconda\\lib\\site-packages\\IPython\\core\\interactiveshell.py:3165: DtypeWarning: Columns (3,5,17) have mixed types.Specify dtype option on import or set low_memory=False.\n",
      "  has_raised = await self.run_ast_nodes(code_ast.body, cell_name,\n"
     ]
    }
   ],
   "source": [
    "members = pd.read_csv('../Data Files/NSS_GreatCare_Members.csv', parse_dates=[61,62])\n",
    "admissions = pd.read_csv('../Data Files/NSS_Hospital_Inpatient_Admissions.csv', parse_dates=[8,9])\n",
    "pcp_visits = pd.read_csv('../Data Files/NSS_PrimaryCare_Office_Visits.csv', parse_dates=[12])"
   ]
  },
  {
   "cell_type": "code",
   "execution_count": 63,
   "id": "1b23ade9",
   "metadata": {},
   "outputs": [
    {
     "data": {
      "text/plain": [
       "((6213, 23), (6149, 23))"
      ]
     },
     "execution_count": 63,
     "metadata": {},
     "output_type": "execute_result"
    }
   ],
   "source": [
    "admissions_dedup = admissions.sort_values(by=['Patient ID','Encounter Start Date', 'Encounter End Date']).drop_duplicates(subset=['Patient ID', 'Encounter Start Date'], keep = 'last')\n",
    "admissions_dedup = admissions_dedup.sort_values(by=['Patient ID','Encounter End Date', 'Encounter Start Date']).drop_duplicates(subset=['Patient ID', 'Encounter End Date'], keep = 'first')\n",
    "admissions.shape, admissions_dedup.shape"
   ]
  },
  {
   "cell_type": "code",
   "execution_count": 64,
   "id": "ab7ba093",
   "metadata": {
    "scrolled": true
   },
   "outputs": [],
   "source": [
    "def categorize_events(patient_admissions):\n",
    "    patient_index_events = 0\n",
    "    patient_readmission_events = 0\n",
    "    last_index_event_discharge_date = None\n",
    "    readmission = False\n",
    "    for ind, row in patient_admissions.iterrows():\n",
    "        ##set first event as an intiial event or a non-qualifying readmission as initial event\n",
    "        if patient_index_events == 0 or row['Encounter Start Date'] > last_index_event_discharge_date + dt.timedelta(days=30):\n",
    "            patient_index_events += 1\n",
    "            last_index_event_discharge_date = row['Encounter End Date']\n",
    "            readmission = False\n",
    "            admissions.loc[admissions['Encounter ID'] == row['Encounter ID'], 'type'] = 'index'\n",
    "        ##check if qualifying readmission and change readmit status of most recently added initial event to true\n",
    "        elif readmission == False:\n",
    "            patient_readmission_events += 1\n",
    "            readmission = True\n",
    "            admissions.loc[admissions['Encounter ID'] == row['Encounter ID'], 'type'] = 'readmission'\n",
    "        ##check for duplicate readmission\n",
    "        else:\n",
    "            admissions.loc[admissions['Encounter ID'] == row['Encounter ID'], 'type'] = 'duplicate readmission'\n",
    "            \n",
    "    return patient_index_events, patient_readmission_events\n",
    "    "
   ]
  },
  {
   "cell_type": "code",
   "execution_count": 65,
   "id": "a68d4b86",
   "metadata": {
    "scrolled": true
   },
   "outputs": [
    {
     "name": "stderr",
     "output_type": "stream",
     "text": [
      "<ipython-input-65-b229257dddde>:5: UserWarning: Boolean Series key will be reindexed to match DataFrame index.\n",
      "  patient_admissions = admissions_dedup[admissions['Patient ID']==patient]\n",
      "<ipython-input-65-b229257dddde>:8: SettingWithCopyWarning: \n",
      "A value is trying to be set on a copy of a slice from a DataFrame\n",
      "\n",
      "See the caveats in the documentation: https://pandas.pydata.org/pandas-docs/stable/user_guide/indexing.html#returning-a-view-versus-a-copy\n",
      "  patient_admissions.sort_values(by = 'Encounter End Date', inplace=True, ignore_index=True)\n"
     ]
    },
    {
     "name": "stdout",
     "output_type": "stream",
     "text": [
      "Total Index Events: 5536\n",
      "Index Events Leading to Readmission: 527\n",
      "Readmission Rate: 9.52%\n"
     ]
    }
   ],
   "source": [
    "total_index_events = 0\n",
    "total_index_events_leading_to_readmission = 0\n",
    "\n",
    "for patient in admissions_dedup['Patient ID'].unique():\n",
    "    patient_admissions = admissions_dedup[admissions['Patient ID']==patient]\n",
    "    times_admitted = patient_admissions.shape[0]\n",
    "    if times_admitted > 1:\n",
    "        patient_admissions.sort_values(by = 'Encounter End Date', inplace=True, ignore_index=True)\n",
    "        ind, re = categorize_events(patient_admissions)\n",
    "        total_index_events += ind\n",
    "        total_index_events_leading_to_readmission += re\n",
    "    else:\n",
    "        encounter_id = patient_admissions['Encounter ID'].values[0]\n",
    "        admissions.loc[admissions['Encounter ID'] == encounter_id, 'type'] = 'index'\n",
    "        total_index_events += 1\n",
    "print(\"Total Index Events:\",total_index_events) \n",
    "print(\"Index Events Leading to Readmission:\", total_index_events_leading_to_readmission)\n",
    "print(str.format(\"Readmission Rate: {}%\",round(total_index_events_leading_to_readmission/total_index_events*100,2)))"
   ]
  },
  {
   "cell_type": "code",
   "execution_count": 66,
   "id": "c976c5dc",
   "metadata": {},
   "outputs": [
    {
     "data": {
      "text/plain": [
       "index                    5536\n",
       "readmission               527\n",
       "duplicate readmission      86\n",
       "Name: type, dtype: int64"
      ]
     },
     "execution_count": 66,
     "metadata": {},
     "output_type": "execute_result"
    }
   ],
   "source": [
    "admissions['type'].value_counts()"
   ]
  },
  {
   "cell_type": "code",
   "execution_count": null,
   "id": "0d9baa61",
   "metadata": {},
   "outputs": [],
   "source": []
  }
 ],
 "metadata": {
  "kernelspec": {
   "display_name": "Python 3",
   "language": "python",
   "name": "python3"
  },
  "language_info": {
   "codemirror_mode": {
    "name": "ipython",
    "version": 3
   },
   "file_extension": ".py",
   "mimetype": "text/x-python",
   "name": "python",
   "nbconvert_exporter": "python",
   "pygments_lexer": "ipython3",
   "version": "3.8.8"
  }
 },
 "nbformat": 4,
 "nbformat_minor": 5
}
