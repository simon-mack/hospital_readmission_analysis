{
 "cells": [
  {
   "cell_type": "markdown",
   "id": "9e011848",
   "metadata": {},
   "source": [
    "\n",
    "\n",
    "QUESTIONS:\n",
    "What is our 30-day all cause readmission rate across hospitals our members are admitted to?\n",
    "What percent of patients have a PCP visit within a week of discharge?\n",
    "Do either vary by individual or group PCP's?\n",
    "\n",
    "BONUS:\n",
    "Which individual or PCP groups should we make an extra effort with to build a relationship? Which have the highest volume?\n",
    "What percent of our patients do not have a PCP assigned or haven't seen their PCP recently?\n",
    "Are there certain patients we should focus on (e.g. frequent fliers)?\n",
    "From this, what could a version 1 of an actionable dashboard or intervention list look like to support the Transition Care Managers?\n",
    "\n",
    "NOTES:\n",
    "\n",
    "discharge date + 30 days: readmission true or false\n",
    "count trues"
   ]
  },
  {
   "cell_type": "code",
   "execution_count": 2,
   "id": "7c6a1474",
   "metadata": {},
   "outputs": [],
   "source": [
    "import pandas as pd\n",
    "import datetime as dt\n",
    "import requests"
   ]
  },
  {
   "cell_type": "code",
   "execution_count": 46,
   "id": "8b80c824",
   "metadata": {},
   "outputs": [],
   "source": [
    "members = pd.read_csv('../Data Files/NSS_GreatCare_Members.csv', parse_dates=[61,62], dtype={'Empirically Attributed PCP Individual Provider NPI':'object', 'Empirically Attributed PCP Group Provider NPI':'object'})\n",
    "admissions = pd.read_csv('../Data Files/NSS_Hospital_Inpatient_Admissions.csv', parse_dates=[8,9])\n",
    "pcp_visits = pd.read_csv('../Data Files/NSS_PrimaryCare_Office_Visits.csv', parse_dates=[12], dtype={'Service Provider NPI':'object', 'Provider Group NPI':'object'})"
   ]
  },
  {
   "cell_type": "code",
   "execution_count": 4,
   "id": "1b23ade9",
   "metadata": {},
   "outputs": [
    {
     "data": {
      "text/plain": [
       "((6213, 23), (6149, 23))"
      ]
     },
     "execution_count": 4,
     "metadata": {},
     "output_type": "execute_result"
    }
   ],
   "source": [
    "admissions_dedup = admissions.sort_values(by=['Patient ID','Encounter Start Date', 'Encounter End Date']).drop_duplicates(subset=['Patient ID', 'Encounter Start Date'], keep = 'last')\n",
    "admissions_dedup = admissions_dedup.sort_values(by=['Patient ID','Encounter End Date', 'Encounter Start Date']).drop_duplicates(subset=['Patient ID', 'Encounter End Date'], keep = 'first')\n",
    "admissions.shape, admissions_dedup.shape"
   ]
  },
  {
   "cell_type": "code",
   "execution_count": 5,
   "id": "ab7ba093",
   "metadata": {
    "scrolled": true
   },
   "outputs": [],
   "source": [
    "def categorize_events(patient_admissions):\n",
    "    patient_index_events = 0\n",
    "    patient_readmission_events = 0\n",
    "    last_index_event_discharge_date = None\n",
    "    last_index_event_encounter_id = None\n",
    "    readmission = False\n",
    "    for ind, row in patient_admissions.iterrows():\n",
    "        ##set first event as an intiial event or a non-qualifying readmission as initial event\n",
    "        if patient_index_events == 0 or row['Encounter Start Date'] > last_index_event_discharge_date + dt.timedelta(days=30):\n",
    "            patient_index_events += 1\n",
    "            last_index_event_discharge_date = row['Encounter End Date']\n",
    "            last_index_event_encounter_id = row['Encounter ID']\n",
    "            readmission = False\n",
    "            admissions.loc[admissions['Encounter ID'] == row['Encounter ID'], 'type'] = 'index without readmission'\n",
    "        ##check if qualifying readmission and change readmit status of most recently added initial event to true\n",
    "        elif readmission == False:\n",
    "            patient_readmission_events += 1\n",
    "            readmission = True\n",
    "            admissions.loc[admissions['Encounter ID'] == last_index_event_encounter_id, 'type'] = 'index w readmission'\n",
    "            admissions.loc[admissions['Encounter ID'] == row['Encounter ID'], 'type'] = 'initial readmission'\n",
    "        ##check for duplicate readmission\n",
    "        else:\n",
    "            admissions.loc[admissions['Encounter ID'] == row['Encounter ID'], 'type'] = 'extra readmission'\n",
    "            \n",
    "    return patient_index_events, patient_readmission_events\n",
    "    "
   ]
  },
  {
   "cell_type": "code",
   "execution_count": 6,
   "id": "a68d4b86",
   "metadata": {
    "scrolled": true
   },
   "outputs": [
    {
     "name": "stderr",
     "output_type": "stream",
     "text": [
      "<ipython-input-6-45bfff96a76a>:5: UserWarning: Boolean Series key will be reindexed to match DataFrame index.\n",
      "  patient_admissions = admissions_dedup[admissions['Patient ID']==patient]\n",
      "<ipython-input-6-45bfff96a76a>:8: SettingWithCopyWarning: \n",
      "A value is trying to be set on a copy of a slice from a DataFrame\n",
      "\n",
      "See the caveats in the documentation: https://pandas.pydata.org/pandas-docs/stable/user_guide/indexing.html#returning-a-view-versus-a-copy\n",
      "  patient_admissions.sort_values(by = 'Encounter End Date', inplace=True, ignore_index=True)\n"
     ]
    },
    {
     "name": "stdout",
     "output_type": "stream",
     "text": [
      "Total Index Events: 5536\n",
      "Index Events Leading to Readmission: 527\n",
      "Readmission Rate: 9.52%\n"
     ]
    }
   ],
   "source": [
    "total_index_events = 0\n",
    "total_index_events_leading_to_readmission = 0\n",
    "\n",
    "for patient in admissions_dedup['Patient ID'].unique():\n",
    "    patient_admissions = admissions_dedup[admissions['Patient ID']==patient]\n",
    "    times_admitted = patient_admissions.shape[0]\n",
    "    if times_admitted > 1:\n",
    "        patient_admissions.sort_values(by = 'Encounter End Date', inplace=True, ignore_index=True)\n",
    "        ind, re = categorize_events(patient_admissions)\n",
    "        total_index_events += ind\n",
    "        total_index_events_leading_to_readmission += re\n",
    "    else:\n",
    "        encounter_id = patient_admissions['Encounter ID'].values[0]\n",
    "        admissions.loc[admissions['Encounter ID'] == encounter_id, 'type'] = 'index without readmission'\n",
    "        total_index_events += 1\n",
    "print(\"Total Index Events:\",total_index_events) \n",
    "print(\"Index Events Leading to Readmission:\", total_index_events_leading_to_readmission)\n",
    "print(str.format(\"Readmission Rate: {}%\",round(total_index_events_leading_to_readmission/total_index_events*100,2)))"
   ]
  },
  {
   "cell_type": "code",
   "execution_count": 7,
   "id": "c976c5dc",
   "metadata": {},
   "outputs": [
    {
     "data": {
      "text/plain": [
       "index without readmission    5009\n",
       "index w readmission           527\n",
       "initial readmission           527\n",
       "extra readmission              86\n",
       "Name: type, dtype: int64"
      ]
     },
     "execution_count": 7,
     "metadata": {},
     "output_type": "execute_result"
    }
   ],
   "source": [
    "admissions['type'].value_counts()"
   ]
  },
  {
   "cell_type": "code",
   "execution_count": 8,
   "id": "0768b9bf",
   "metadata": {},
   "outputs": [],
   "source": [
    "admissions[['type']] = admissions[['type']].fillna(value='duplicate encounter')"
   ]
  },
  {
   "cell_type": "code",
   "execution_count": 9,
   "id": "267a2f6a",
   "metadata": {},
   "outputs": [
    {
     "data": {
      "text/plain": [
       "index without readmission    5009\n",
       "index w readmission           527\n",
       "initial readmission           527\n",
       "extra readmission              86\n",
       "duplicate encounter            64\n",
       "Name: type, dtype: int64"
      ]
     },
     "execution_count": 9,
     "metadata": {},
     "output_type": "execute_result"
    }
   ],
   "source": [
    "admissions['type'].value_counts()"
   ]
  },
  {
   "cell_type": "code",
   "execution_count": 10,
   "id": "8f9d0d7d",
   "metadata": {},
   "outputs": [
    {
     "name": "stdout",
     "output_type": "stream",
     "text": [
      "Total Hospital Visits:  6149\n",
      "Total PCP Visits in 7 Days:  1860\n",
      "PCP Visit Rate: 30.25%\n"
     ]
    }
   ],
   "source": [
    "total_hospital_visits = admissions_dedup.shape[0]\n",
    "total_pcp_visits_in_7_days = 0\n",
    "\n",
    "for ind, row in admissions_dedup.iterrows():\n",
    "    patient = row['Patient ID']\n",
    "    discharge_date = row['Encounter End Date']\n",
    "    \n",
    "    for i,r in pcp_visits[pcp_visits['Patient ID']==patient].iterrows():\n",
    "        if r['Encounter Date'] <= discharge_date + dt.timedelta(days=7) and r['Encounter Date'] >= discharge_date:\n",
    "            total_pcp_visits_in_7_days += 1\n",
    "            admissions.loc[admissions['Encounter ID']==row['Encounter ID'], '7 day followup'] = True\n",
    "            break\n",
    "            \n",
    "print('Total Hospital Visits: ', total_hospital_visits)\n",
    "print('Total PCP Visits in 7 Days: ', total_pcp_visits_in_7_days)\n",
    "print(str.format(\"PCP Visit Rate: {}%\",round(total_pcp_visits_in_7_days/total_hospital_visits*100,2)))\n"
   ]
  },
  {
   "cell_type": "code",
   "execution_count": 11,
   "id": "eb28fbb5",
   "metadata": {},
   "outputs": [],
   "source": [
    "for ind, row in admissions.iterrows():\n",
    "    patient = row['Patient ID']\n",
    "    discharge = row['Encounter End Date']\n",
    "    encounter = row['Encounter ID']\n",
    "    mask = (pcp_visits['Patient ID'] == patient) & (pcp_visits['Encounter Date']>= discharge)\n",
    "    patient_pcp = pcp_visits[mask].sort_values('Encounter Date')\n",
    "    if len(patient_pcp['Encounter Date']) == 0:\n",
    "        continue\n",
    "    else:\n",
    "        first_pcp_visit = patient_pcp.head(1)\n",
    "        indiv_npi = first_pcp_visit['Service Provider NPI'].values[0]\n",
    "        group_npi = first_pcp_visit['Provider Group NPI'].values[0]\n",
    "        if indiv_npi == group_npi:\n",
    "            admissions.loc[admissions['Encounter ID']==encounter, 'individual_npi'] = indiv_npi\n",
    "        else:\n",
    "            admissions.loc[admissions['Encounter ID']==encounter, 'individual_npi'] = indiv_npi\n",
    "            admissions.loc[admissions['Encounter ID']==encounter, 'group_npi'] = group_npi"
   ]
  },
  {
   "cell_type": "code",
   "execution_count": 12,
   "id": "5e642def",
   "metadata": {},
   "outputs": [
    {
     "data": {
      "text/html": [
       "<div>\n",
       "<style scoped>\n",
       "    .dataframe tbody tr th:only-of-type {\n",
       "        vertical-align: middle;\n",
       "    }\n",
       "\n",
       "    .dataframe tbody tr th {\n",
       "        vertical-align: top;\n",
       "    }\n",
       "\n",
       "    .dataframe thead th {\n",
       "        text-align: right;\n",
       "    }\n",
       "</style>\n",
       "<table border=\"1\" class=\"dataframe\">\n",
       "  <thead>\n",
       "    <tr style=\"text-align: right;\">\n",
       "      <th></th>\n",
       "      <th>Encounter ID</th>\n",
       "      <th>Patient ID</th>\n",
       "      <th>Encounter Primary Payor ID</th>\n",
       "      <th>Encounter Primary Plan ID</th>\n",
       "      <th>Facility Provider ID</th>\n",
       "      <th>Attending Provider ID</th>\n",
       "      <th>Attending Provider NPI</th>\n",
       "      <th>Facility Provider NPI</th>\n",
       "      <th>Encounter Start Date</th>\n",
       "      <th>Encounter End Date</th>\n",
       "      <th>...</th>\n",
       "      <th>Principal Discharge Diagnosis ICD-9-CM Description</th>\n",
       "      <th>Principal Discharge Diagnosis ICD-10-CM Code</th>\n",
       "      <th>Principal Discharge Diagnosis ICD-10-CM Description</th>\n",
       "      <th>Primary Plan Allowed Amount</th>\n",
       "      <th>Primary Plan Paid Amount</th>\n",
       "      <th>Patient Paid Amount</th>\n",
       "      <th>type</th>\n",
       "      <th>7 day followup</th>\n",
       "      <th>individual_npi</th>\n",
       "      <th>group_npi</th>\n",
       "    </tr>\n",
       "  </thead>\n",
       "  <tbody>\n",
       "    <tr>\n",
       "      <th>0</th>\n",
       "      <td>HIA|DS1|10033|DS1|NPI|1306890389|1</td>\n",
       "      <td>DS1|10033</td>\n",
       "      <td>DS1|1</td>\n",
       "      <td>DS1|5047W</td>\n",
       "      <td>DS1|NPI|1306890389</td>\n",
       "      <td>DS1|NPI|1417170523</td>\n",
       "      <td>1.417171e+09</td>\n",
       "      <td>1306890389</td>\n",
       "      <td>2013-01-12</td>\n",
       "      <td>2013-01-14</td>\n",
       "      <td>...</td>\n",
       "      <td>NaN</td>\n",
       "      <td>O70.0</td>\n",
       "      <td>First degree perineal laceration during delivery</td>\n",
       "      <td>0</td>\n",
       "      <td>6620.72</td>\n",
       "      <td>250.0</td>\n",
       "      <td>index without readmission</td>\n",
       "      <td>False</td>\n",
       "      <td>1619980406</td>\n",
       "      <td>1043427248</td>\n",
       "    </tr>\n",
       "    <tr>\n",
       "      <th>1</th>\n",
       "      <td>HIA|DS1|10043|DS1|NPI|1902803315|1</td>\n",
       "      <td>DS1|10043</td>\n",
       "      <td>DS1|1</td>\n",
       "      <td>DS1|5047Y</td>\n",
       "      <td>DS1|NPI|1902803315</td>\n",
       "      <td>DS1|NPI|1669599197</td>\n",
       "      <td>1.669599e+09</td>\n",
       "      <td>1902803315</td>\n",
       "      <td>2014-01-05</td>\n",
       "      <td>2014-01-12</td>\n",
       "      <td>...</td>\n",
       "      <td>Compression of brain</td>\n",
       "      <td>NaN</td>\n",
       "      <td>NaN</td>\n",
       "      <td>0</td>\n",
       "      <td>46465.40</td>\n",
       "      <td>250.0</td>\n",
       "      <td>index without readmission</td>\n",
       "      <td>True</td>\n",
       "      <td>1619199791</td>\n",
       "      <td>1043427248</td>\n",
       "    </tr>\n",
       "    <tr>\n",
       "      <th>2</th>\n",
       "      <td>HIA|DS1|10073|DS1|NPI|1902803315|1</td>\n",
       "      <td>DS1|10073</td>\n",
       "      <td>DS1|1</td>\n",
       "      <td>DS1|5047X</td>\n",
       "      <td>DS1|NPI|1902803315</td>\n",
       "      <td>DS1|NPI|1407880511</td>\n",
       "      <td>1.407881e+09</td>\n",
       "      <td>1902803315</td>\n",
       "      <td>2012-06-13</td>\n",
       "      <td>2012-06-21</td>\n",
       "      <td>...</td>\n",
       "      <td>NaN</td>\n",
       "      <td>K91.71</td>\n",
       "      <td>Accidental puncture and laceration of a digest...</td>\n",
       "      <td>0</td>\n",
       "      <td>43879.13</td>\n",
       "      <td>250.0</td>\n",
       "      <td>index without readmission</td>\n",
       "      <td>True</td>\n",
       "      <td>1659394021</td>\n",
       "      <td>1043427248</td>\n",
       "    </tr>\n",
       "    <tr>\n",
       "      <th>3</th>\n",
       "      <td>HIA|DS1|10101|DS1|NPI|1427055839|1</td>\n",
       "      <td>DS1|10101</td>\n",
       "      <td>DS1|1</td>\n",
       "      <td>DS1|5047W</td>\n",
       "      <td>DS1|NPI|1427055839</td>\n",
       "      <td>DS1|NPI|1407008907</td>\n",
       "      <td>1.407009e+09</td>\n",
       "      <td>1427055839</td>\n",
       "      <td>2012-12-06</td>\n",
       "      <td>2012-12-09</td>\n",
       "      <td>...</td>\n",
       "      <td>NaN</td>\n",
       "      <td>O70.1</td>\n",
       "      <td>Second degree perineal laceration during delivery</td>\n",
       "      <td>0</td>\n",
       "      <td>14800.00</td>\n",
       "      <td>250.0</td>\n",
       "      <td>index without readmission</td>\n",
       "      <td>True</td>\n",
       "      <td>1952538340</td>\n",
       "      <td>1043427248</td>\n",
       "    </tr>\n",
       "    <tr>\n",
       "      <th>4</th>\n",
       "      <td>HIA|DS1|10118|DS1|NPI|1992818256|1</td>\n",
       "      <td>DS1|10118</td>\n",
       "      <td>DS1|1</td>\n",
       "      <td>DS1|5047W</td>\n",
       "      <td>DS1|NPI|1992818256</td>\n",
       "      <td>DS1|NPI|1518045608</td>\n",
       "      <td>1.518046e+09</td>\n",
       "      <td>1992818256</td>\n",
       "      <td>2015-03-11</td>\n",
       "      <td>2015-03-14</td>\n",
       "      <td>...</td>\n",
       "      <td>NaN</td>\n",
       "      <td>F32.9</td>\n",
       "      <td>Major depressive disorder, single episode, uns...</td>\n",
       "      <td>0</td>\n",
       "      <td>0.00</td>\n",
       "      <td>0.0</td>\n",
       "      <td>index without readmission</td>\n",
       "      <td>False</td>\n",
       "      <td>1316361942</td>\n",
       "      <td>1043427248</td>\n",
       "    </tr>\n",
       "  </tbody>\n",
       "</table>\n",
       "<p>5 rows × 27 columns</p>\n",
       "</div>"
      ],
      "text/plain": [
       "                         Encounter ID Patient ID Encounter Primary Payor ID  \\\n",
       "0  HIA|DS1|10033|DS1|NPI|1306890389|1  DS1|10033                      DS1|1   \n",
       "1  HIA|DS1|10043|DS1|NPI|1902803315|1  DS1|10043                      DS1|1   \n",
       "2  HIA|DS1|10073|DS1|NPI|1902803315|1  DS1|10073                      DS1|1   \n",
       "3  HIA|DS1|10101|DS1|NPI|1427055839|1  DS1|10101                      DS1|1   \n",
       "4  HIA|DS1|10118|DS1|NPI|1992818256|1  DS1|10118                      DS1|1   \n",
       "\n",
       "  Encounter Primary Plan ID Facility Provider ID Attending Provider ID  \\\n",
       "0                 DS1|5047W   DS1|NPI|1306890389    DS1|NPI|1417170523   \n",
       "1                 DS1|5047Y   DS1|NPI|1902803315    DS1|NPI|1669599197   \n",
       "2                 DS1|5047X   DS1|NPI|1902803315    DS1|NPI|1407880511   \n",
       "3                 DS1|5047W   DS1|NPI|1427055839    DS1|NPI|1407008907   \n",
       "4                 DS1|5047W   DS1|NPI|1992818256    DS1|NPI|1518045608   \n",
       "\n",
       "   Attending Provider NPI Facility Provider NPI Encounter Start Date  \\\n",
       "0            1.417171e+09            1306890389           2013-01-12   \n",
       "1            1.669599e+09            1902803315           2014-01-05   \n",
       "2            1.407881e+09            1902803315           2012-06-13   \n",
       "3            1.407009e+09            1427055839           2012-12-06   \n",
       "4            1.518046e+09            1992818256           2015-03-11   \n",
       "\n",
       "  Encounter End Date  ...  Principal Discharge Diagnosis ICD-9-CM Description  \\\n",
       "0         2013-01-14  ...                                                NaN    \n",
       "1         2014-01-12  ...                               Compression of brain    \n",
       "2         2012-06-21  ...                                                NaN    \n",
       "3         2012-12-09  ...                                                NaN    \n",
       "4         2015-03-14  ...                                                NaN    \n",
       "\n",
       "   Principal Discharge Diagnosis ICD-10-CM Code  \\\n",
       "0                                         O70.0   \n",
       "1                                           NaN   \n",
       "2                                        K91.71   \n",
       "3                                         O70.1   \n",
       "4                                         F32.9   \n",
       "\n",
       "   Principal Discharge Diagnosis ICD-10-CM Description  \\\n",
       "0   First degree perineal laceration during delivery     \n",
       "1                                                NaN     \n",
       "2  Accidental puncture and laceration of a digest...     \n",
       "3  Second degree perineal laceration during delivery     \n",
       "4  Major depressive disorder, single episode, uns...     \n",
       "\n",
       "  Primary Plan Allowed Amount  Primary Plan Paid Amount  Patient Paid Amount  \\\n",
       "0                           0                   6620.72                250.0   \n",
       "1                           0                  46465.40                250.0   \n",
       "2                           0                  43879.13                250.0   \n",
       "3                           0                  14800.00                250.0   \n",
       "4                           0                      0.00                  0.0   \n",
       "\n",
       "                        type 7 day followup individual_npi   group_npi  \n",
       "0  index without readmission          False     1619980406  1043427248  \n",
       "1  index without readmission           True     1619199791  1043427248  \n",
       "2  index without readmission           True     1659394021  1043427248  \n",
       "3  index without readmission           True     1952538340  1043427248  \n",
       "4  index without readmission          False     1316361942  1043427248  \n",
       "\n",
       "[5 rows x 27 columns]"
      ]
     },
     "execution_count": 12,
     "metadata": {},
     "output_type": "execute_result"
    }
   ],
   "source": [
    "admissions[['7 day followup']] = admissions[['7 day followup']].fillna(value=False)\n",
    "admissions.head()"
   ]
  },
  {
   "cell_type": "code",
   "execution_count": 27,
   "id": "ac68791f",
   "metadata": {},
   "outputs": [
    {
     "name": "stdout",
     "output_type": "stream",
     "text": [
      "index without readmission    5009\n",
      "index w readmission           527\n",
      "initial readmission           527\n",
      "extra readmission              86\n",
      "duplicate encounter            64\n",
      "Name: type, dtype: int64\n"
     ]
    },
    {
     "data": {
      "text/plain": [
       "(1288, 1380)"
      ]
     },
     "execution_count": 27,
     "metadata": {},
     "output_type": "execute_result"
    }
   ],
   "source": [
    "print(admissions['type'].value_counts())\n",
    "admissions['individual_npi'].isna().sum(), admissions['group_npi'].isna().sum()"
   ]
  },
  {
   "cell_type": "code",
   "execution_count": 36,
   "id": "5a775e5d",
   "metadata": {
    "scrolled": true
   },
   "outputs": [
    {
     "name": "stdout",
     "output_type": "stream",
     "text": [
      "Readmission rate for patients who see an individual PCP after discharge: 9.67%\n",
      "7 day followup rate for patients who see an individual PCP after discharge: 38.01%\n"
     ]
    }
   ],
   "source": [
    "individual_mask = ~admissions['individual_npi'].isna()\n",
    "index_events = admissions[individual_mask]['type'].value_counts()[0] + admissions[individual_mask]['type'].value_counts()[1]\n",
    "readmissions = admissions[individual_mask]['type'].value_counts()[1]\n",
    "\n",
    "non_dup = ~(admissions['type']=='duplicate encounter') & individual_mask\n",
    "admission_events = admissions[non_dup].shape[0]\n",
    "followup_7_days = admissions[(non_dup) & (admissions['7 day followup']==True)].shape[0]\n",
    "\n",
    "print(f'Readmission rate for patients who see an individual PCP after discharge: {round(readmissions/index_events*100,2)}%')\n",
    "print(f'7 day followup rate for patients who see an individual PCP after discharge: {round(followup_7_days/admission_events*100,2)}%')"
   ]
  },
  {
   "cell_type": "code",
   "execution_count": 37,
   "id": "9466c0f9",
   "metadata": {},
   "outputs": [
    {
     "name": "stdout",
     "output_type": "stream",
     "text": [
      "Readmission rate for patients who see a group PCP after discharge: 9.63%\n",
      "7 day followup rate for patients who see a group PCP after discharge: 38.21%\n"
     ]
    }
   ],
   "source": [
    "group_mask = ~admissions['group_npi'].isna()\n",
    "index_events_g = admissions[group_mask]['type'].value_counts()[0] + admissions[group_mask]['type'].value_counts()[1]\n",
    "readmissions_g = admissions[group_mask]['type'].value_counts()[1]\n",
    "\n",
    "non_dup_g = ~(admissions['type']=='duplicate encounter') & group_mask\n",
    "admission_events_g = admissions[non_dup_g].shape[0]\n",
    "followup_7_days_g = admissions[(non_dup_g) & (admissions['7 day followup']==True)].shape[0]\n",
    "\n",
    "print(f'Readmission rate for patients who see a group PCP after discharge: {round(readmissions_g/index_events_g*100,2)}%')\n",
    "print(f'7 day followup rate for patients who see a group PCP after discharge: {round(followup_7_days_g/admission_events_g*100,2)}%')"
   ]
  },
  {
   "cell_type": "code",
   "execution_count": 25,
   "id": "72e53100",
   "metadata": {},
   "outputs": [
    {
     "data": {
      "text/plain": [
       "1043427248    2209\n",
       "1184722779    1164\n",
       "1164512851     481\n",
       "1407058787     247\n",
       "1316025091     173\n",
       "              ... \n",
       "1073580320       1\n",
       "1275975104       1\n",
       "1093106569       1\n",
       "1043628316       1\n",
       "1881810042       1\n",
       "Name: group_npi, Length: 116, dtype: int64"
      ]
     },
     "execution_count": 25,
     "metadata": {},
     "output_type": "execute_result"
    }
   ],
   "source": [
    "admissions['group_npi'].value_counts()"
   ]
  },
  {
   "cell_type": "code",
   "execution_count": 41,
   "id": "0056ff8a",
   "metadata": {},
   "outputs": [
    {
     "data": {
      "text/plain": [
       "1104884337    66\n",
       "1619980406    52\n",
       "1467643700    50\n",
       "1972704856    50\n",
       "1437180965    49\n",
       "              ..\n",
       "1942315387     1\n",
       "1528196185     1\n",
       "1811192651     1\n",
       "1033404645     1\n",
       "1235154618     1\n",
       "Name: individual_npi, Length: 979, dtype: int64"
      ]
     },
     "execution_count": 41,
     "metadata": {},
     "output_type": "execute_result"
    }
   ],
   "source": [
    "admissions['individual_npi'].value_counts()"
   ]
  },
  {
   "cell_type": "code",
   "execution_count": 42,
   "id": "4b54eb60",
   "metadata": {},
   "outputs": [
    {
     "data": {
      "text/plain": [
       "DS1|3812     17\n",
       "DS1|26751    15\n",
       "DS1|53241    13\n",
       "DS1|10451    12\n",
       "DS1|12422    11\n",
       "             ..\n",
       "DS1|22718     1\n",
       "DS1|58843     1\n",
       "DS1|41030     1\n",
       "DS1|39166     1\n",
       "DS1|6550      1\n",
       "Name: Patient ID, Length: 4701, dtype: int64"
      ]
     },
     "execution_count": 42,
     "metadata": {},
     "output_type": "execute_result"
    }
   ],
   "source": [
    "admissions['Patient ID'].value_counts()"
   ]
  },
  {
   "cell_type": "code",
   "execution_count": 47,
   "id": "9a8ec7b5",
   "metadata": {},
   "outputs": [
    {
     "data": {
      "text/plain": [
       "29680"
      ]
     },
     "execution_count": 47,
     "metadata": {},
     "output_type": "execute_result"
    }
   ],
   "source": [
    "members['Empirically Attributed PCP Individual Provider NPI'].isna().sum()"
   ]
  },
  {
   "cell_type": "code",
   "execution_count": 48,
   "id": "9893ddfd",
   "metadata": {},
   "outputs": [
    {
     "data": {
      "text/plain": [
       "29631"
      ]
     },
     "execution_count": 48,
     "metadata": {},
     "output_type": "execute_result"
    }
   ],
   "source": [
    "members['Empirically Attributed PCP Group Provider NPI'].isna().sum()"
   ]
  },
  {
   "cell_type": "code",
   "execution_count": 55,
   "id": "7acea0bd",
   "metadata": {},
   "outputs": [
    {
     "name": "stdout",
     "output_type": "stream",
     "text": [
      "Members who do not have an assigned PCP (group or individual): 47.96%\n"
     ]
    }
   ],
   "source": [
    "mask = members['Empirically Attributed PCP Individual Provider NPI'].isna() & members['Empirically Attributed PCP Group Provider NPI'].isna()\n",
    "print(f'Members who do not have an assigned PCP (group or individual): {round(members[mask].shape[0]/members.shape[0]*100,2)}%')"
   ]
  },
  {
   "cell_type": "code",
   "execution_count": 59,
   "id": "cd98972a",
   "metadata": {},
   "outputs": [],
   "source": [
    "for member in members['Patient ID'].unique():\n",
    "    member_pcp_visits = pcp_visits[pcp_visits['Patient ID']==member]\n",
    "    most_recent_visit = member_pcp_visits['Encounter Date'].max()\n",
    "    members.loc[members['Patient ID']==member, 'most recent visit'] = most_recent_visit"
   ]
  },
  {
   "cell_type": "code",
   "execution_count": 62,
   "id": "3849223f",
   "metadata": {},
   "outputs": [],
   "source": [
    "members.to_csv('../Data Files/leptons_members.csv')\n",
    "admissions.to_csv('../Data Files/leptons_admissions.csv')\n",
    "pcp_visits.to_csv('../Data Files/leptons_pcp.csv')"
   ]
  },
  {
   "cell_type": "code",
   "execution_count": null,
   "id": "9eac651a",
   "metadata": {},
   "outputs": [],
   "source": []
  }
 ],
 "metadata": {
  "kernelspec": {
   "display_name": "Python 3",
   "language": "python",
   "name": "python3"
  },
  "language_info": {
   "codemirror_mode": {
    "name": "ipython",
    "version": 3
   },
   "file_extension": ".py",
   "mimetype": "text/x-python",
   "name": "python",
   "nbconvert_exporter": "python",
   "pygments_lexer": "ipython3",
   "version": "3.8.8"
  }
 },
 "nbformat": 4,
 "nbformat_minor": 5
}
