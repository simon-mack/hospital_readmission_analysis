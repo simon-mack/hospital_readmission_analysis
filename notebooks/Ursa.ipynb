{
 "cells": [
  {
   "cell_type": "markdown",
   "id": "9e011848",
   "metadata": {},
   "source": [
    "\n",
    "\n",
    "QUESTIONS:\n",
    "What is our 30-day all cause readmission rate across hospitals our members are admitted to?\n",
    "What percent of patients have a PCP visit within a week of discharge?\n",
    "Do either vary by individual or group PCP's?\n",
    "\n",
    "BONUS:\n",
    "Which individual or PCP groups should we make an extra effort with to build a relationship? Which have the highest volume?\n",
    "What percent of our patients do not have a PCP assigned or haven't seen their PCP recently?\n",
    "Are there certain patients we should focus on (e.g. frequent fliers)?\n",
    "From this, what could a version 1 of an actionable dashboard or intervention list look like to support the Transition Care Managers?\n",
    "\n",
    "NOTES:\n",
    "\n",
    "discharge date + 30 days: readmission true or false\n",
    "count trues"
   ]
  },
  {
   "cell_type": "code",
   "execution_count": 3,
   "id": "7c6a1474",
   "metadata": {},
   "outputs": [],
   "source": [
    "import pandas as pd\n",
    "import datetime as dt"
   ]
  },
  {
   "cell_type": "code",
   "execution_count": 81,
   "id": "8b80c824",
   "metadata": {},
   "outputs": [
    {
     "name": "stderr",
     "output_type": "stream",
     "text": [
      "E:\\Anaconda\\lib\\site-packages\\IPython\\core\\interactiveshell.py:3165: DtypeWarning: Columns (3,5,17) have mixed types.Specify dtype option on import or set low_memory=False.\n",
      "  has_raised = await self.run_ast_nodes(code_ast.body, cell_name,\n"
     ]
    }
   ],
   "source": [
    "members = pd.read_csv('../Data Files/NSS_GreatCare_Members.csv', parse_dates=[61,62])\n",
    "admissions = pd.read_csv('../Data Files/NSS_Hospital_Inpatient_Admissions.csv', parse_dates=[8,9])\n",
    "pcp_visits = pd.read_csv('../Data Files/NSS_PrimaryCare_Office_Visits.csv', parse_dates=[12])"
   ]
  },
  {
   "cell_type": "code",
   "execution_count": 82,
   "id": "e2589fff",
   "metadata": {},
   "outputs": [
    {
     "data": {
      "text/html": [
       "<div>\n",
       "<style scoped>\n",
       "    .dataframe tbody tr th:only-of-type {\n",
       "        vertical-align: middle;\n",
       "    }\n",
       "\n",
       "    .dataframe tbody tr th {\n",
       "        vertical-align: top;\n",
       "    }\n",
       "\n",
       "    .dataframe thead th {\n",
       "        text-align: right;\n",
       "    }\n",
       "</style>\n",
       "<table border=\"1\" class=\"dataframe\">\n",
       "  <thead>\n",
       "    <tr style=\"text-align: right;\">\n",
       "      <th></th>\n",
       "      <th>Encounter ID</th>\n",
       "      <th>Patient ID</th>\n",
       "      <th>Encounter Primary Payor ID</th>\n",
       "      <th>Encounter Primary Plan ID</th>\n",
       "      <th>Facility Provider ID</th>\n",
       "      <th>Attending Provider ID</th>\n",
       "      <th>Attending Provider NPI</th>\n",
       "      <th>Facility Provider NPI</th>\n",
       "      <th>Encounter Start Date</th>\n",
       "      <th>Encounter End Date</th>\n",
       "      <th>...</th>\n",
       "      <th>CMS Admit Source Code</th>\n",
       "      <th>CMS Patient Discharge Status Code</th>\n",
       "      <th>CMS Place of Service Code</th>\n",
       "      <th>Principal Discharge Diagnosis ICD-9-CM Code</th>\n",
       "      <th>Principal Discharge Diagnosis ICD-9-CM Description</th>\n",
       "      <th>Principal Discharge Diagnosis ICD-10-CM Code</th>\n",
       "      <th>Principal Discharge Diagnosis ICD-10-CM Description</th>\n",
       "      <th>Primary Plan Allowed Amount</th>\n",
       "      <th>Primary Plan Paid Amount</th>\n",
       "      <th>Patient Paid Amount</th>\n",
       "    </tr>\n",
       "  </thead>\n",
       "  <tbody>\n",
       "    <tr>\n",
       "      <th>6210</th>\n",
       "      <td>HIA|DS1|9994|DS1|NPI|1689608150|1</td>\n",
       "      <td>DS1|9994</td>\n",
       "      <td>DS1|1</td>\n",
       "      <td>DS1|5047W</td>\n",
       "      <td>DS1|NPI|1689608150</td>\n",
       "      <td>DS1|NPI|1861831836</td>\n",
       "      <td>1.861832e+09</td>\n",
       "      <td>1689608150</td>\n",
       "      <td>2015-11-21</td>\n",
       "      <td>2015-11-23</td>\n",
       "      <td>...</td>\n",
       "      <td>1</td>\n",
       "      <td>1</td>\n",
       "      <td>21.0</td>\n",
       "      <td>NaN</td>\n",
       "      <td>NaN</td>\n",
       "      <td>O76</td>\n",
       "      <td>Abnormality in fetal heart rate and rhythm com...</td>\n",
       "      <td>0</td>\n",
       "      <td>17919.75</td>\n",
       "      <td>250.0</td>\n",
       "    </tr>\n",
       "    <tr>\n",
       "      <th>6211</th>\n",
       "      <td>HIA|DS1|9994|DS1|NPI|1689608150|2</td>\n",
       "      <td>DS1|9994</td>\n",
       "      <td>DS1|1</td>\n",
       "      <td>DS1|5047W</td>\n",
       "      <td>DS1|NPI|1689608150</td>\n",
       "      <td>DS1|NPI|1750544516</td>\n",
       "      <td>1.750545e+09</td>\n",
       "      <td>1689608150</td>\n",
       "      <td>2015-11-24</td>\n",
       "      <td>2015-11-27</td>\n",
       "      <td>...</td>\n",
       "      <td>1</td>\n",
       "      <td>1</td>\n",
       "      <td>21.0</td>\n",
       "      <td>NaN</td>\n",
       "      <td>NaN</td>\n",
       "      <td>O42.92</td>\n",
       "      <td>Full-term premature rupture of membranes, unsp...</td>\n",
       "      <td>0</td>\n",
       "      <td>19919.42</td>\n",
       "      <td>250.0</td>\n",
       "    </tr>\n",
       "  </tbody>\n",
       "</table>\n",
       "<p>2 rows × 23 columns</p>\n",
       "</div>"
      ],
      "text/plain": [
       "                           Encounter ID Patient ID Encounter Primary Payor ID  \\\n",
       "6210  HIA|DS1|9994|DS1|NPI|1689608150|1   DS1|9994                      DS1|1   \n",
       "6211  HIA|DS1|9994|DS1|NPI|1689608150|2   DS1|9994                      DS1|1   \n",
       "\n",
       "     Encounter Primary Plan ID Facility Provider ID Attending Provider ID  \\\n",
       "6210                 DS1|5047W   DS1|NPI|1689608150    DS1|NPI|1861831836   \n",
       "6211                 DS1|5047W   DS1|NPI|1689608150    DS1|NPI|1750544516   \n",
       "\n",
       "      Attending Provider NPI Facility Provider NPI Encounter Start Date  \\\n",
       "6210            1.861832e+09            1689608150           2015-11-21   \n",
       "6211            1.750545e+09            1689608150           2015-11-24   \n",
       "\n",
       "     Encounter End Date  ...  CMS Admit Source Code  \\\n",
       "6210         2015-11-23  ...                      1   \n",
       "6211         2015-11-27  ...                      1   \n",
       "\n",
       "      CMS Patient Discharge Status Code  CMS Place of Service Code  \\\n",
       "6210                                  1                       21.0   \n",
       "6211                                  1                       21.0   \n",
       "\n",
       "     Principal Discharge Diagnosis ICD-9-CM Code  \\\n",
       "6210                                         NaN   \n",
       "6211                                         NaN   \n",
       "\n",
       "      Principal Discharge Diagnosis ICD-9-CM Description  \\\n",
       "6210                                                NaN    \n",
       "6211                                                NaN    \n",
       "\n",
       "      Principal Discharge Diagnosis ICD-10-CM Code  \\\n",
       "6210                                           O76   \n",
       "6211                                        O42.92   \n",
       "\n",
       "     Principal Discharge Diagnosis ICD-10-CM Description  \\\n",
       "6210  Abnormality in fetal heart rate and rhythm com...    \n",
       "6211  Full-term premature rupture of membranes, unsp...    \n",
       "\n",
       "     Primary Plan Allowed Amount Primary Plan Paid Amount Patient Paid Amount  \n",
       "6210                           0                 17919.75               250.0  \n",
       "6211                           0                 19919.42               250.0  \n",
       "\n",
       "[2 rows x 23 columns]"
      ]
     },
     "execution_count": 82,
     "metadata": {},
     "output_type": "execute_result"
    }
   ],
   "source": [
    "admissions[admissions['Patient ID'] == 'DS1|9994']"
   ]
  },
  {
   "cell_type": "code",
   "execution_count": 83,
   "id": "1b23ade9",
   "metadata": {},
   "outputs": [],
   "source": [
    "total_admissions = admissions.shape[0]"
   ]
  },
  {
   "cell_type": "code",
   "execution_count": 84,
   "id": "ab7ba093",
   "metadata": {
    "scrolled": true
   },
   "outputs": [],
   "source": [
    "def categorize_events(patient_admissions):\n",
    "    patient_index_events = 0\n",
    "    patient_readmission_events = 0\n",
    "    last_index_event_discharge_date = None\n",
    "    readmission = False\n",
    "    for ind, row in patient_admissions.iterrows():\n",
    "        ##set first event as an intiial event or a non-qualifying readmission as initial event\n",
    "        if patient_index_events == 0 or row['Encounter Start Date'] > last_index_event_discharge_date + dt.timedelta(days=30):\n",
    "            patient_index_events += 1\n",
    "            last_index_event_discharge_date = row['Encounter End Date']\n",
    "            readmission = False\n",
    "            admissions.loc[admissions['Encounter ID'] == row['Encounter ID'], 'type'] = 'index'\n",
    "        ##check if qualifying readmission and change readmit status of most recently added initial event to true\n",
    "        elif readmission == False:\n",
    "            patient_readmission_events += 1\n",
    "            readmission = True\n",
    "            admissions.loc[admissions['Encounter ID'] == row['Encounter ID'], 'type'] = 'readmission'\n",
    "        else:\n",
    "            admissions.loc[admissions['Encounter ID'] == row['Encounter ID'], 'type'] = 'readmission'\n",
    "            \n",
    "    return patient_index_events, patient_readmission_events\n",
    "    "
   ]
  },
  {
   "cell_type": "code",
   "execution_count": 89,
   "id": "a68d4b86",
   "metadata": {},
   "outputs": [
    {
     "name": "stderr",
     "output_type": "stream",
     "text": [
      "<ipython-input-89-c78681cf85c5>:8: SettingWithCopyWarning: \n",
      "A value is trying to be set on a copy of a slice from a DataFrame\n",
      "\n",
      "See the caveats in the documentation: https://pandas.pydata.org/pandas-docs/stable/user_guide/indexing.html#returning-a-view-versus-a-copy\n",
      "  patient_admissions.sort_values(by = 'Encounter End Date', inplace=True, ignore_index=True)\n"
     ]
    },
    {
     "name": "stdout",
     "output_type": "stream",
     "text": [
      "Total Index Events: 5540\n",
      "Index Events Leading to Readmission: 574\n",
      "Readmission Rate: 10.36%\n"
     ]
    }
   ],
   "source": [
    "total_index_events = 0\n",
    "total_index_events_leading_to_readmission = 0\n",
    "\n",
    "for patient in admissions['Patient ID'].unique():\n",
    "    patient_admissions = admissions[admissions['Patient ID']==patient]\n",
    "    times_admitted = patient_admissions.shape[0]\n",
    "    if times_admitted > 1:\n",
    "        patient_admissions.sort_values(by = 'Encounter End Date', inplace=True, ignore_index=True)\n",
    "        ind, re = categorize_events(patient_admissions)\n",
    "        total_index_events += ind\n",
    "        total_index_events_leading_to_readmission += re\n",
    "    else:\n",
    "        admissions.loc[admissions['Patient ID'] == patient, 'type'] = 'index'\n",
    "        total_index_events += 1\n",
    "print(\"Total Index Events:\",total_index_events) \n",
    "print(\"Index Events Leading to Readmission:\", total_index_events_leading_to_readmission)\n",
    "print(str.format(\"Readmission Rate: {}%\",round(total_index_events_leading_to_readmission/total_index_events*100,2)))"
   ]
  },
  {
   "cell_type": "code",
   "execution_count": 90,
   "id": "c976c5dc",
   "metadata": {},
   "outputs": [
    {
     "data": {
      "text/plain": [
       "index          5540\n",
       "readmission     673\n",
       "Name: type, dtype: int64"
      ]
     },
     "execution_count": 90,
     "metadata": {},
     "output_type": "execute_result"
    }
   ],
   "source": [
    "admissions['type'].value_counts()"
   ]
  }
 ],
 "metadata": {
  "kernelspec": {
   "display_name": "Python 3",
   "language": "python",
   "name": "python3"
  },
  "language_info": {
   "codemirror_mode": {
    "name": "ipython",
    "version": 3
   },
   "file_extension": ".py",
   "mimetype": "text/x-python",
   "name": "python",
   "nbconvert_exporter": "python",
   "pygments_lexer": "ipython3",
   "version": "3.8.8"
  }
 },
 "nbformat": 4,
 "nbformat_minor": 5
}
